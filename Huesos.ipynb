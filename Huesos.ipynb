{
 "cells": [
  {
   "cell_type": "markdown",
   "id": "b1e9a76c-7bf7-485a-99fc-f5ecab7e4690",
   "metadata": {},
   "source": [
    "# Huesos"
   ]
  },
  {
   "cell_type": "markdown",
   "id": "87c3dc23-92be-4f3e-a0e0-8e597e10cda3",
   "metadata": {},
   "source": [
    "## Importación de librerias"
   ]
  },
  {
   "cell_type": "code",
   "execution_count": 1,
   "id": "9304e52c-e8fc-4f16-8d60-4443b2dadb1d",
   "metadata": {},
   "outputs": [],
   "source": [
    "import tensorflow as tf\n",
    "import matplotlib as mpl\n",
    "import matplotlib.pyplot as plt\n",
    "import numpy as np\n",
    "import cv2\n",
    "import os\n"
   ]
  },
  {
   "cell_type": "markdown",
   "id": "26442b7b-f3e8-4779-9666-01cdc43d3bb0",
   "metadata": {},
   "source": [
    "## Definición de rutas"
   ]
  },
  {
   "cell_type": "code",
   "execution_count": 2,
   "id": "42e54e09-a576-4c2f-888d-203e1497dcbf",
   "metadata": {},
   "outputs": [],
   "source": [
    "fracturados_train = r\"C:\\Users\\David\\PycharmProjects\\first_project\\Huesos\\Bone_Fracture_Binary_Classification\\Bone_Fracture_Binary_Classification\\train\\fractured\"\n",
    "fracturados_test = r\"C:\\Users\\David\\PycharmProjects\\first_project\\Huesos\\Bone_Fracture_Binary_Classification\\Bone_Fracture_Binary_Classification\\test\\fractured\"\n",
    "no_fracturados_train = r\"C:\\Users\\David\\PycharmProjects\\first_project\\Huesos\\Bone_Fracture_Binary_Classification\\Bone_Fracture_Binary_Classification\\train\\not fractured\"\n",
    "no_fracturados_test = r\"C:\\Users\\David\\PycharmProjects\\first_project\\Huesos\\Bone_Fracture_Binary_Classification\\Bone_Fracture_Binary_Classification\\test\\not fractured\""
   ]
  },
  {
   "cell_type": "markdown",
   "id": "53e1122b-fc13-4ecf-90c2-4f375ee0a5e9",
   "metadata": {},
   "source": [
    "## Definición medidas"
   ]
  },
  {
   "cell_type": "code",
   "execution_count": 70,
   "id": "713b200b-1014-4715-a13e-7537fe87154b",
   "metadata": {},
   "outputs": [],
   "source": [
    "size = (100,100)"
   ]
  },
  {
   "cell_type": "markdown",
   "id": "254f97e3-11dc-4d5c-bb97-cbc9e4cbd221",
   "metadata": {},
   "source": [
    "## Creación listas entrenamiento"
   ]
  },
  {
   "cell_type": "code",
   "execution_count": 176,
   "id": "01ac1086-df40-434a-88d4-b20c6645f7b1",
   "metadata": {},
   "outputs": [],
   "source": [
    "x_train = []\n",
    "x_test = []\n",
    "y_train = []\n",
    "y_test = []"
   ]
  },
  {
   "cell_type": "markdown",
   "id": "651d236a-82e9-4566-aba8-8d5295dd5193",
   "metadata": {},
   "source": [
    "Fracturado = 0 || No fracturado = 1"
   ]
  },
  {
   "cell_type": "markdown",
   "id": "9bf3ed4a-fd05-4f0f-baea-bcbc0ddcfeda",
   "metadata": {},
   "source": [
    "## Recorriendo directorio y añadiendo a las listas redimensionandolo"
   ]
  },
  {
   "cell_type": "code",
   "execution_count": 177,
   "id": "129f4121-0202-4d9d-88c3-6c91f5373def",
   "metadata": {},
   "outputs": [],
   "source": [
    "for i in os.listdir(fracturados_train):\n",
    "    try:\n",
    "        x_train.append(cv2.resize(cv2.cvtColor(cv2.imread(os.path.join(fracturados_train, i)), cv2.COLOR_BGR2GRAY), size)/255.0)\n",
    "        y_train.append(0)\n",
    "    except:\n",
    "        pass"
   ]
  },
  {
   "cell_type": "code",
   "execution_count": 178,
   "id": "a17366b5-a5c7-45f0-bec0-4bf2d9a5cbbf",
   "metadata": {},
   "outputs": [],
   "source": [
    "for i in os.listdir(fracturados_test):\n",
    "    try:\n",
    "        x_test.append(cv2.resize(cv2.cvtColor(cv2.imread(os.path.join(fracturados_train, i)), cv2.COLOR_BGR2GRAY), size)/255.0)\n",
    "        y_test.append(0)\n",
    "    except:\n",
    "        pass"
   ]
  },
  {
   "cell_type": "code",
   "execution_count": 179,
   "id": "a40ab35b-9fd9-4293-8b82-199f97842cc7",
   "metadata": {},
   "outputs": [],
   "source": [
    "for i in os.listdir(no_fracturados_train):\n",
    "    try:\n",
    "        x_train.append(cv2.resize(cv2.cvtColor(cv2.imread(os.path.join(fracturados_train, i)), cv2.COLOR_BGR2GRAY), size)/255.0)\n",
    "        y_train.append(1)\n",
    "    except:\n",
    "        pass"
   ]
  },
  {
   "cell_type": "code",
   "execution_count": 180,
   "id": "974ffd39-f995-45f3-aa82-a74ff8f44538",
   "metadata": {},
   "outputs": [],
   "source": [
    "for i in os.listdir(no_fracturados_test):\n",
    "    try:\n",
    "        x_test.append(cv2.resize(cv2.cvtColor(cv2.imread(os.path.join(fracturados_train, i)), cv2.COLOR_BGR2GRAY), size)/255.0)\n",
    "        y_test.append(1)\n",
    "    except:\n",
    "        pass"
   ]
  },
  {
   "cell_type": "markdown",
   "id": "ac417717-e557-4e29-be5f-941a9c79ccf1",
   "metadata": {},
   "source": [
    "## Conversión a arrays de numpy"
   ]
  },
  {
   "cell_type": "code",
   "execution_count": 181,
   "id": "3c22bdfe-ed45-46fd-8777-b236e93853f1",
   "metadata": {},
   "outputs": [],
   "source": [
    "x_train = np.array(x_train, dtype=\"float16\")"
   ]
  },
  {
   "cell_type": "code",
   "execution_count": 182,
   "id": "72598bf3-6e50-46d7-bab6-bd87997fa230",
   "metadata": {},
   "outputs": [],
   "source": [
    "x_test = np.array(x_test, dtype = \"float16\")"
   ]
  },
  {
   "cell_type": "code",
   "execution_count": 183,
   "id": "5986c5c3-c895-4ede-8207-cd1c6716da10",
   "metadata": {},
   "outputs": [],
   "source": [
    "y_test = np.array(y_test, dtype = \"int32\")"
   ]
  },
  {
   "cell_type": "code",
   "execution_count": 184,
   "id": "7a9b3ba6-2e7f-4477-9290-5a720a1a2c38",
   "metadata": {},
   "outputs": [],
   "source": [
    "y_train = np.array(y_train, dtype = \"int32\")"
   ]
  },
  {
   "cell_type": "markdown",
   "id": "1cf7bd3c-81ba-413d-9f69-f3476abd9af2",
   "metadata": {},
   "source": [
    "## Creación de modelo"
   ]
  },
  {
   "cell_type": "code",
   "execution_count": 191,
   "id": "bed36f41-184e-4001-ba05-61a495814f10",
   "metadata": {},
   "outputs": [],
   "source": [
    "model = tf.keras.Sequential([\n",
    "    tf.keras.layers.Input(shape=(100, 100, 1), dtype=tf.float16),\n",
    "    tf.keras.layers.Conv2D(32,3, activation = \"relu\"),\n",
    "    tf.keras.layers.MaxPooling2D(2),\n",
    "    tf.keras.layers.Conv2D(32,3, activation = \"relu\"),\n",
    "    tf.keras.layers.MaxPooling2D(2),\n",
    "    tf.keras.layers.Conv2D(32,3, activation = \"relu\"),\n",
    "    tf.keras.layers.MaxPooling2D(2),\n",
    "    tf.keras.layers.Flatten(),\n",
    "    tf.keras.layers.Dense(68, activation = \"relu\"),\n",
    "    tf.keras.layers.Dense(128, activation = \"relu\"),\n",
    "    tf.keras.layers.Dense(2, activation = \"softmax\")                  \n",
    "])"
   ]
  },
  {
   "cell_type": "code",
   "execution_count": 190,
   "id": "ab9734de-3261-4469-807b-1953d35f7967",
   "metadata": {},
   "outputs": [],
   "source": [
    "model.compile(\n",
    "    optimizer = \"adam\",\n",
    "    loss = \"sparse_categorical_crossentropy\",\n",
    "    metrics = [\"accuracy\"]\n",
    ")"
   ]
  },
  {
   "cell_type": "markdown",
   "id": "9a45571b-b396-4a63-acca-38028f8003e6",
   "metadata": {},
   "source": [
    "## Barajar los datos"
   ]
  },
  {
   "cell_type": "code",
   "execution_count": 187,
   "id": "f7efcfaf-1dae-49f1-b871-6b8ae6e0a0f4",
   "metadata": {},
   "outputs": [],
   "source": [
    "# Combinar x_train y y_train en un solo conjunto de datos\n",
    "dataset = tf.data.Dataset.from_tensor_slices((x_train, y_train))\n",
    "\n",
    "# Barajar los datos\n",
    "dataset = dataset.shuffle(buffer_size=len(x_train))\n"
   ]
  },
  {
   "cell_type": "markdown",
   "id": "a769eb9b-2682-4b70-a45c-a276658ca496",
   "metadata": {},
   "source": [
    "## Entrenamiento de modelo"
   ]
  },
  {
   "cell_type": "code",
   "execution_count": 188,
   "id": "86941b60-1bc3-4d9c-83aa-88f846e9c544",
   "metadata": {},
   "outputs": [
    {
     "name": "stdout",
     "output_type": "stream",
     "text": [
      "Epoch 1/5\n"
     ]
    },
    {
     "ename": "ValueError",
     "evalue": "Exception encountered when calling Sequential.call().\n\n\u001b[1mInvalid input shape for input Tensor(\"sequential_14_1/Cast:0\", shape=(100, 100), dtype=float32). Expected shape (None, 100, 100, 1), but input has incompatible shape (100, 100)\u001b[0m\n\nArguments received by Sequential.call():\n  • inputs=tf.Tensor(shape=(100, 100), dtype=float16)\n  • training=True\n  • mask=None",
     "output_type": "error",
     "traceback": [
      "\u001b[1;31m---------------------------------------------------------------------------\u001b[0m",
      "\u001b[1;31mValueError\u001b[0m                                Traceback (most recent call last)",
      "Cell \u001b[1;32mIn[188], line 1\u001b[0m\n\u001b[1;32m----> 1\u001b[0m \u001b[43mmodel\u001b[49m\u001b[38;5;241;43m.\u001b[39;49m\u001b[43mfit\u001b[49m\u001b[43m(\u001b[49m\u001b[43mdataset\u001b[49m\u001b[43m,\u001b[49m\u001b[43m \u001b[49m\u001b[43mepochs\u001b[49m\u001b[38;5;241;43m=\u001b[39;49m\u001b[38;5;241;43m5\u001b[39;49m\u001b[43m)\u001b[49m\n\u001b[0;32m      2\u001b[0m model\u001b[38;5;241m.\u001b[39mevaluate(x_test, y_test)\n\u001b[0;32m      3\u001b[0m prediction \u001b[38;5;241m=\u001b[39m model\u001b[38;5;241m.\u001b[39mpredict(x_test)\n",
      "File \u001b[1;32m~\\anaconda3\\envs\\tf_cpu\\Lib\\site-packages\\keras\\src\\utils\\traceback_utils.py:122\u001b[0m, in \u001b[0;36mfilter_traceback.<locals>.error_handler\u001b[1;34m(*args, **kwargs)\u001b[0m\n\u001b[0;32m    119\u001b[0m     filtered_tb \u001b[38;5;241m=\u001b[39m _process_traceback_frames(e\u001b[38;5;241m.\u001b[39m__traceback__)\n\u001b[0;32m    120\u001b[0m     \u001b[38;5;66;03m# To get the full stack trace, call:\u001b[39;00m\n\u001b[0;32m    121\u001b[0m     \u001b[38;5;66;03m# `keras.config.disable_traceback_filtering()`\u001b[39;00m\n\u001b[1;32m--> 122\u001b[0m     \u001b[38;5;28;01mraise\u001b[39;00m e\u001b[38;5;241m.\u001b[39mwith_traceback(filtered_tb) \u001b[38;5;28;01mfrom\u001b[39;00m \u001b[38;5;28;01mNone\u001b[39;00m\n\u001b[0;32m    123\u001b[0m \u001b[38;5;28;01mfinally\u001b[39;00m:\n\u001b[0;32m    124\u001b[0m     \u001b[38;5;28;01mdel\u001b[39;00m filtered_tb\n",
      "File \u001b[1;32m~\\anaconda3\\envs\\tf_cpu\\Lib\\site-packages\\keras\\src\\models\\functional.py:285\u001b[0m, in \u001b[0;36mFunctional._adjust_input_rank\u001b[1;34m(self, flat_inputs)\u001b[0m\n\u001b[0;32m    283\u001b[0m             adjusted\u001b[38;5;241m.\u001b[39mappend(ops\u001b[38;5;241m.\u001b[39mexpand_dims(x, axis\u001b[38;5;241m=\u001b[39m\u001b[38;5;241m-\u001b[39m\u001b[38;5;241m1\u001b[39m))\n\u001b[0;32m    284\u001b[0m             \u001b[38;5;28;01mcontinue\u001b[39;00m\n\u001b[1;32m--> 285\u001b[0m     \u001b[38;5;28;01mraise\u001b[39;00m \u001b[38;5;167;01mValueError\u001b[39;00m(\n\u001b[0;32m    286\u001b[0m         \u001b[38;5;124mf\u001b[39m\u001b[38;5;124m\"\u001b[39m\u001b[38;5;124mInvalid input shape for input \u001b[39m\u001b[38;5;132;01m{\u001b[39;00mx\u001b[38;5;132;01m}\u001b[39;00m\u001b[38;5;124m. Expected shape \u001b[39m\u001b[38;5;124m\"\u001b[39m\n\u001b[0;32m    287\u001b[0m         \u001b[38;5;124mf\u001b[39m\u001b[38;5;124m\"\u001b[39m\u001b[38;5;132;01m{\u001b[39;00mref_shape\u001b[38;5;132;01m}\u001b[39;00m\u001b[38;5;124m, but input has incompatible shape \u001b[39m\u001b[38;5;132;01m{\u001b[39;00mx\u001b[38;5;241m.\u001b[39mshape\u001b[38;5;132;01m}\u001b[39;00m\u001b[38;5;124m\"\u001b[39m\n\u001b[0;32m    288\u001b[0m     )\n\u001b[0;32m    289\u001b[0m \u001b[38;5;66;03m# Add back metadata.\u001b[39;00m\n\u001b[0;32m    290\u001b[0m \u001b[38;5;28;01mfor\u001b[39;00m i \u001b[38;5;129;01min\u001b[39;00m \u001b[38;5;28mrange\u001b[39m(\u001b[38;5;28mlen\u001b[39m(flat_inputs)):\n",
      "\u001b[1;31mValueError\u001b[0m: Exception encountered when calling Sequential.call().\n\n\u001b[1mInvalid input shape for input Tensor(\"sequential_14_1/Cast:0\", shape=(100, 100), dtype=float32). Expected shape (None, 100, 100, 1), but input has incompatible shape (100, 100)\u001b[0m\n\nArguments received by Sequential.call():\n  • inputs=tf.Tensor(shape=(100, 100), dtype=float16)\n  • training=True\n  • mask=None"
     ]
    }
   ],
   "source": [
    "model.fit(dataset, epochs=5)\n",
    "model.evaluate(x_test, y_test)\n",
    "prediction = model.predict(x_test)"
   ]
  },
  {
   "cell_type": "markdown",
   "id": "e15f446b-7dcb-4604-a442-3be43d53c7e5",
   "metadata": {},
   "source": [
    "## Pruebas de shape"
   ]
  },
  {
   "cell_type": "code",
   "execution_count": 148,
   "id": "f288eb1f-4e93-4d86-9f27-d2369c42e0d3",
   "metadata": {},
   "outputs": [
    {
     "name": "stdout",
     "output_type": "stream",
     "text": [
      "(100, 100)\n",
      "()\n",
      "(69, 100, 100)\n",
      "(69,)\n",
      "<dtype: 'float16'>\n",
      "<dtype: 'float16'>\n",
      "int32\n",
      "int32\n",
      "<_ShuffleDataset element_spec=(TensorSpec(shape=(100, 100), dtype=tf.float16, name=None), TensorSpec(shape=(), dtype=tf.float16, name=None))>\n",
      "tf.Tensor(0.0, shape=(), dtype=float16)\n"
     ]
    }
   ],
   "source": [
    "print(x_train.shape)\n",
    "print(y_train.shape)\n",
    "print(x_test.shape)\n",
    "print(y_test.shape)\n",
    "print(x_train.dtype)\n",
    "print(y_train.dtype)\n",
    "print(x_test.dtype)\n",
    "print(y_test.dtype)\n",
    "print(dataset)\n",
    "print(y_train)"
   ]
  },
  {
   "cell_type": "markdown",
   "id": "631ceb71-a4cc-43d8-918e-87156a32616e",
   "metadata": {},
   "source": [
    "## Probar datos"
   ]
  },
  {
   "cell_type": "code",
   "execution_count": 129,
   "id": "271840e1-c5a7-4fb4-aca5-07e0e6bd9a7e",
   "metadata": {},
   "outputs": [
    {
     "name": "stdout",
     "output_type": "stream",
     "text": [
      "[[9.9987304e-01 1.2698345e-04]\n",
      " [9.9987233e-01 1.2761830e-04]\n",
      " [9.9987233e-01 1.2761830e-04]\n",
      " [9.9989188e-01 1.0808304e-04]\n",
      " [9.9987233e-01 1.2761830e-04]\n",
      " [9.9989188e-01 1.0808304e-04]\n",
      " [9.9989188e-01 1.0808304e-04]\n",
      " [9.9989188e-01 1.0808304e-04]\n",
      " [9.9991214e-01 8.7860615e-05]\n",
      " [9.9991214e-01 8.7860615e-05]\n",
      " [9.9984360e-01 1.5632572e-04]\n",
      " [9.9999201e-01 8.0442342e-06]\n",
      " [9.9999201e-01 8.0442342e-06]\n",
      " [9.9984360e-01 1.5632572e-04]\n",
      " [9.9999201e-01 8.0442342e-06]\n",
      " [9.9991214e-01 8.7860615e-05]\n",
      " [9.9999201e-01 8.0442342e-06]\n",
      " [9.9987233e-01 1.2761830e-04]\n",
      " [9.9984360e-01 1.5632572e-04]\n",
      " [9.9991214e-01 8.7860615e-05]\n",
      " [9.9984360e-01 1.5632572e-04]\n",
      " [9.9987304e-01 1.2698345e-04]\n",
      " [9.9987304e-01 1.2698345e-04]\n",
      " [9.9987304e-01 1.2698345e-04]\n",
      " [9.9987304e-01 1.2698345e-04]\n",
      " [9.9987304e-01 1.2698345e-04]\n",
      " [9.9987304e-01 1.2698345e-04]\n",
      " [9.9987304e-01 1.2698345e-04]\n",
      " [9.9907553e-01 9.2440139e-04]\n",
      " [9.9987304e-01 1.2698345e-04]\n",
      " [9.9987304e-01 1.2698345e-04]\n",
      " [9.9987304e-01 1.2698345e-04]\n",
      " [9.9987304e-01 1.2698345e-04]\n",
      " [9.9984360e-01 1.5632572e-04]\n",
      " [9.9987304e-01 1.2698345e-04]\n",
      " [9.9987304e-01 1.2698345e-04]\n",
      " [9.9987304e-01 1.2698345e-04]\n",
      " [9.9987304e-01 1.2698345e-04]\n",
      " [9.9987304e-01 1.2698345e-04]\n",
      " [9.9987304e-01 1.2698345e-04]\n",
      " [9.9987304e-01 1.2698345e-04]\n",
      " [9.9987304e-01 1.2698345e-04]\n",
      " [9.9987304e-01 1.2698345e-04]\n",
      " [9.9987304e-01 1.2698345e-04]\n",
      " [9.9987304e-01 1.2698345e-04]\n",
      " [9.9987304e-01 1.2698345e-04]\n",
      " [9.9987304e-01 1.2698345e-04]\n",
      " [9.9987304e-01 1.2698345e-04]\n",
      " [9.9987304e-01 1.2698345e-04]\n",
      " [9.9987304e-01 1.2698345e-04]\n",
      " [9.9987304e-01 1.2698345e-04]\n",
      " [9.9987304e-01 1.2698345e-04]\n",
      " [9.9987304e-01 1.2698345e-04]\n",
      " [9.9983644e-01 1.6352240e-04]\n",
      " [9.9987304e-01 1.2698345e-04]\n",
      " [9.9987304e-01 1.2698345e-04]\n",
      " [9.9987304e-01 1.2698345e-04]\n",
      " [9.9987304e-01 1.2698345e-04]\n",
      " [9.9907553e-01 9.2440139e-04]\n",
      " [9.9987304e-01 1.2698345e-04]\n",
      " [9.9987304e-01 1.2698345e-04]\n",
      " [9.9987304e-01 1.2698345e-04]\n",
      " [9.9987304e-01 1.2698345e-04]\n",
      " [9.9987304e-01 1.2698345e-04]\n",
      " [9.9987304e-01 1.2698345e-04]\n",
      " [9.9987304e-01 1.2698345e-04]\n",
      " [9.9987304e-01 1.2698345e-04]\n",
      " [9.9987304e-01 1.2698345e-04]\n",
      " [9.9987304e-01 1.2698345e-04]]\n",
      "[0 0 0 0 0 0 0 0 0 0 0 0 0 0 0 0 0 0 0 0 0 0 0 0 0 0 0 0 0 0 0 0 1 1 1 1 1\n",
      " 1 1 1 1 1 1 1 1 1 1 1 1 1 1 1 1 1 1 1 1 1 1 1 1 1 1 1 1 1 1 1 1]\n"
     ]
    }
   ],
   "source": [
    "print(prediction)\n",
    "print(y_test)"
   ]
  },
  {
   "cell_type": "code",
   "execution_count": null,
   "id": "a9d0c0f0-72dd-429d-b10a-997d3bb6352c",
   "metadata": {},
   "outputs": [],
   "source": []
  }
 ],
 "metadata": {
  "kernelspec": {
   "display_name": "Python 3 (ipykernel)",
   "language": "python",
   "name": "python3"
  },
  "language_info": {
   "codemirror_mode": {
    "name": "ipython",
    "version": 3
   },
   "file_extension": ".py",
   "mimetype": "text/x-python",
   "name": "python",
   "nbconvert_exporter": "python",
   "pygments_lexer": "ipython3",
   "version": "3.12.3"
  }
 },
 "nbformat": 4,
 "nbformat_minor": 5
}

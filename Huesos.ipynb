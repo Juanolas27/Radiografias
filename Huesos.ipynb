{
 "cells": [
  {
   "cell_type": "markdown",
   "id": "b1e9a76c-7bf7-485a-99fc-f5ecab7e4690",
   "metadata": {},
   "source": [
    "# Huesos"
   ]
  },
  {
   "cell_type": "markdown",
   "id": "87c3dc23-92be-4f3e-a0e0-8e597e10cda3",
   "metadata": {},
   "source": [
    "## Importación de librerias"
   ]
  },
  {
   "cell_type": "code",
   "execution_count": 1,
   "id": "9304e52c-e8fc-4f16-8d60-4443b2dadb1d",
   "metadata": {},
   "outputs": [],
   "source": [
    "import tensorflow as tf\n",
    "import matplotlib as mpl\n",
    "import matplotlib.pyplot as plt\n",
    "import numpy as np\n",
    "import cv2\n",
    "import os\n"
   ]
  },
  {
   "cell_type": "markdown",
   "id": "26442b7b-f3e8-4779-9666-01cdc43d3bb0",
   "metadata": {},
   "source": [
    "## Definición de rutas"
   ]
  },
  {
   "cell_type": "code",
   "execution_count": 2,
   "id": "42e54e09-a576-4c2f-888d-203e1497dcbf",
   "metadata": {},
   "outputs": [],
   "source": [
    "fracturados_train = r\"C:\\Users\\David\\PycharmProjects\\first_project\\Huesos\\Bone_Fracture_Binary_Classification\\Bone_Fracture_Binary_Classification\\train\\fractured\"\n",
    "fracturados_test = r\"C:\\Users\\David\\PycharmProjects\\first_project\\Huesos\\Bone_Fracture_Binary_Classification\\Bone_Fracture_Binary_Classification\\test\\fractured\"\n",
    "no_fracturados_train = r\"C:\\Users\\David\\PycharmProjects\\first_project\\Huesos\\Bone_Fracture_Binary_Classification\\Bone_Fracture_Binary_Classification\\train\\not fractured\"\n",
    "no_fracturados_test = r\"C:\\Users\\David\\PycharmProjects\\first_project\\Huesos\\Bone_Fracture_Binary_Classification\\Bone_Fracture_Binary_Classification\\test\\not fractured\""
   ]
  },
  {
   "cell_type": "markdown",
   "id": "53e1122b-fc13-4ecf-90c2-4f375ee0a5e9",
   "metadata": {},
   "source": [
    "## Definición medidas"
   ]
  },
  {
   "cell_type": "code",
   "execution_count": 3,
   "id": "713b200b-1014-4715-a13e-7537fe87154b",
   "metadata": {},
   "outputs": [],
   "source": [
    "size = (200,200)"
   ]
  },
  {
   "cell_type": "markdown",
   "id": "254f97e3-11dc-4d5c-bb97-cbc9e4cbd221",
   "metadata": {},
   "source": [
    "## Creación listas entrenamiento"
   ]
  },
  {
   "cell_type": "code",
   "execution_count": 74,
   "id": "01ac1086-df40-434a-88d4-b20c6645f7b1",
   "metadata": {},
   "outputs": [],
   "source": [
    "x_train = []\n",
    "x_test = []\n",
    "y_train = []\n",
    "y_test = []"
   ]
  },
  {
   "cell_type": "markdown",
   "id": "651d236a-82e9-4566-aba8-8d5295dd5193",
   "metadata": {},
   "source": [
    "Fracturado = 0 || No fracturado = 1"
   ]
  },
  {
   "cell_type": "markdown",
   "id": "9bf3ed4a-fd05-4f0f-baea-bcbc0ddcfeda",
   "metadata": {},
   "source": [
    "## Recorriendo directorio y añadiendo a las listas redimensionandolo"
   ]
  },
  {
   "cell_type": "code",
   "execution_count": 75,
   "id": "129f4121-0202-4d9d-88c3-6c91f5373def",
   "metadata": {},
   "outputs": [],
   "source": [
    "for i in os.listdir(fracturados_train):\n",
    "    try:\n",
    "        x_train.append(cv2.resize(cv2.cvtColor(cv2.imread(os.path.join(fracturados_train, i)), cv2.COLOR_BGR2GRAY), size)/255.0)\n",
    "        y_train.append(0)\n",
    "    except:\n",
    "        pass"
   ]
  },
  {
   "cell_type": "code",
   "execution_count": 76,
   "id": "a17366b5-a5c7-45f0-bec0-4bf2d9a5cbbf",
   "metadata": {},
   "outputs": [],
   "source": [
    "for i in os.listdir(fracturados_test):\n",
    "    try:\n",
    "        x_test.append(cv2.resize(cv2.cvtColor(cv2.imread(os.path.join(fracturados_test, i)), cv2.COLOR_BGR2GRAY), size)/255.0)\n",
    "        y_test.append(0)\n",
    "    except:\n",
    "        print(\"error en fracturados test\")"
   ]
  },
  {
   "cell_type": "code",
   "execution_count": 77,
   "id": "a40ab35b-9fd9-4293-8b82-199f97842cc7",
   "metadata": {},
   "outputs": [],
   "source": [
    "for i in os.listdir(no_fracturados_train):\n",
    "    try:\n",
    "        x_train.append(cv2.resize(cv2.cvtColor(cv2.imread(os.path.join(no_fracturados_train, i)), cv2.COLOR_BGR2GRAY), size)/255.0)\n",
    "        y_train.append(1)\n",
    "    except:\n",
    "        pass"
   ]
  },
  {
   "cell_type": "code",
   "execution_count": 78,
   "id": "974ffd39-f995-45f3-aa82-a74ff8f44538",
   "metadata": {},
   "outputs": [],
   "source": [
    "for i in os.listdir(no_fracturados_test):\n",
    "    try:\n",
    "        x_test.append(cv2.resize(cv2.cvtColor(cv2.imread(os.path.join(no_fracturados_test, i)), cv2.COLOR_BGR2GRAY), size)/255.0)\n",
    "        y_test.append(1)\n",
    "    except:\n",
    "        print(\"error en no fracturados test\")"
   ]
  },
  {
   "cell_type": "code",
   "execution_count": 79,
   "id": "3569f861-d35f-443b-baa5-6438982e2386",
   "metadata": {},
   "outputs": [
    {
     "name": "stdout",
     "output_type": "stream",
     "text": [
      "9243 9243 506 506\n"
     ]
    }
   ],
   "source": [
    "print(len(x_train), len(y_train), len(x_test), len(y_test))"
   ]
  },
  {
   "cell_type": "markdown",
   "id": "ac417717-e557-4e29-be5f-941a9c79ccf1",
   "metadata": {},
   "source": [
    "## Conversión a arrays de numpy"
   ]
  },
  {
   "cell_type": "code",
   "execution_count": 80,
   "id": "3c22bdfe-ed45-46fd-8777-b236e93853f1",
   "metadata": {},
   "outputs": [],
   "source": [
    "x_train = np.array(x_train, dtype=\"float16\")"
   ]
  },
  {
   "cell_type": "code",
   "execution_count": 81,
   "id": "fecaae7a-6d33-4ed0-aa71-c2ec96443d0b",
   "metadata": {},
   "outputs": [],
   "source": [
    "# Asegurar que las imágenes estén en escala de grises y tengan una dimensión de canal\n",
    "x_train = x_train.reshape(-1, 200, 200, 1)"
   ]
  },
  {
   "cell_type": "code",
   "execution_count": 82,
   "id": "7a9b3ba6-2e7f-4477-9290-5a720a1a2c38",
   "metadata": {},
   "outputs": [],
   "source": [
    "y_train = np.array(y_train, dtype = \"float16\")"
   ]
  },
  {
   "cell_type": "code",
   "execution_count": 83,
   "id": "72598bf3-6e50-46d7-bab6-bd87997fa230",
   "metadata": {},
   "outputs": [],
   "source": [
    "x_test = np.array(x_test, dtype = \"float16\")"
   ]
  },
  {
   "cell_type": "code",
   "execution_count": 84,
   "id": "7db6b4c9-7640-4efb-9319-e7293cf49a35",
   "metadata": {},
   "outputs": [],
   "source": [
    "# Asegurar que las imágenes estén en escala de grises y tengan una dimensión de canal\n",
    "x_test = x_test.reshape(-1,200, 200, 1)"
   ]
  },
  {
   "cell_type": "code",
   "execution_count": 85,
   "id": "5986c5c3-c895-4ede-8207-cd1c6716da10",
   "metadata": {},
   "outputs": [],
   "source": [
    "y_test = np.array(y_test, dtype = \"float16\")"
   ]
  },
  {
   "cell_type": "code",
   "execution_count": 86,
   "id": "0cffb1de-4ecf-45a4-b65a-cee42a5d441f",
   "metadata": {},
   "outputs": [
    {
     "name": "stdout",
     "output_type": "stream",
     "text": [
      "(9243, 200, 200, 1) (9243,)\n"
     ]
    }
   ],
   "source": [
    "print(x_train.shape, y_train.shape)"
   ]
  },
  {
   "cell_type": "code",
   "execution_count": 87,
   "id": "85a1e3f6-6967-49f1-b4fa-5343b3b23188",
   "metadata": {},
   "outputs": [
    {
     "name": "stdout",
     "output_type": "stream",
     "text": [
      "(506, 200, 200, 1) (506,)\n"
     ]
    }
   ],
   "source": [
    "print(x_test.shape, y_test.shape)"
   ]
  },
  {
   "cell_type": "markdown",
   "id": "1cf7bd3c-81ba-413d-9f69-f3476abd9af2",
   "metadata": {},
   "source": [
    "## Creación de modelo"
   ]
  },
  {
   "cell_type": "code",
   "execution_count": 88,
   "id": "bed36f41-184e-4001-ba05-61a495814f10",
   "metadata": {},
   "outputs": [],
   "source": [
    "model = tf.keras.Sequential([\n",
    "    tf.keras.layers.Input(shape=(200, 200, 1), dtype=tf.float16),\n",
    "    tf.keras.layers.Conv2D(32,3, activation = \"relu\"),\n",
    "    tf.keras.layers.MaxPooling2D(2),\n",
    "    tf.keras.layers.Conv2D(32,3, activation = \"relu\"),\n",
    "    tf.keras.layers.MaxPooling2D(2),\n",
    "    tf.keras.layers.Conv2D(32,3, activation = \"relu\"),\n",
    "    tf.keras.layers.MaxPooling2D(2),\n",
    "    tf.keras.layers.Flatten(),\n",
    "    tf.keras.layers.Dense(68, activation = \"relu\"),\n",
    "    tf.keras.layers.Dense(128, activation = \"relu\"),\n",
    "    tf.keras.layers.Dense(2, activation = \"softmax\")                  \n",
    "])"
   ]
  },
  {
   "cell_type": "code",
   "execution_count": 89,
   "id": "ab9734de-3261-4469-807b-1953d35f7967",
   "metadata": {},
   "outputs": [],
   "source": [
    "model.compile(\n",
    "    optimizer = \"adam\",\n",
    "    loss = \"sparse_categorical_crossentropy\",\n",
    "    metrics = [\"accuracy\"]\n",
    ")"
   ]
  },
  {
   "cell_type": "markdown",
   "id": "9a45571b-b396-4a63-acca-38028f8003e6",
   "metadata": {},
   "source": [
    "## Barajar los datos"
   ]
  },
  {
   "cell_type": "code",
   "execution_count": 90,
   "id": "f7efcfaf-1dae-49f1-b871-6b8ae6e0a0f4",
   "metadata": {},
   "outputs": [],
   "source": [
    "# Combinar x_train y y_train en un solo conjunto de datos\n",
    "dataset = tf.data.Dataset.from_tensor_slices((x_train, y_train))\n",
    "\n",
    "# Barajar los datos\n",
    "dataset = dataset.shuffle(buffer_size=len(x_train))\n",
    "dataset_preprocesado = dataset.batch(32).repeat(5)"
   ]
  },
  {
   "cell_type": "markdown",
   "id": "a769eb9b-2682-4b70-a45c-a276658ca496",
   "metadata": {},
   "source": [
    "## Entrenamiento de modelo"
   ]
  },
  {
   "cell_type": "code",
   "execution_count": 91,
   "id": "86941b60-1bc3-4d9c-83aa-88f846e9c544",
   "metadata": {},
   "outputs": [
    {
     "name": "stdout",
     "output_type": "stream",
     "text": [
      "Epoch 1/5\n",
      "\u001b[1m288/288\u001b[0m \u001b[32m━━━━━━━━━━━━━━━━━━━━\u001b[0m\u001b[37m\u001b[0m \u001b[1m134s\u001b[0m 448ms/step - accuracy: 0.7535 - loss: 0.4488\n",
      "Epoch 2/5\n",
      "\u001b[1m288/288\u001b[0m \u001b[32m━━━━━━━━━━━━━━━━━━━━\u001b[0m\u001b[37m\u001b[0m \u001b[1m127s\u001b[0m 442ms/step - accuracy: 0.9820 - loss: 0.0644\n",
      "Epoch 3/5\n",
      "\u001b[1m288/288\u001b[0m \u001b[32m━━━━━━━━━━━━━━━━━━━━\u001b[0m\u001b[37m\u001b[0m \u001b[1m125s\u001b[0m 434ms/step - accuracy: 0.9940 - loss: 0.0202\n",
      "Epoch 4/5\n",
      "\u001b[1m288/288\u001b[0m \u001b[32m━━━━━━━━━━━━━━━━━━━━\u001b[0m\u001b[37m\u001b[0m \u001b[1m124s\u001b[0m 432ms/step - accuracy: 0.9947 - loss: 0.0134\n",
      "Epoch 5/5\n",
      "\u001b[1m288/288\u001b[0m \u001b[32m━━━━━━━━━━━━━━━━━━━━\u001b[0m\u001b[37m\u001b[0m \u001b[1m122s\u001b[0m 424ms/step - accuracy: 0.9957 - loss: 0.0179\n"
     ]
    },
    {
     "data": {
      "text/plain": [
       "<keras.src.callbacks.history.History at 0x21cc3d67e30>"
      ]
     },
     "execution_count": 91,
     "metadata": {},
     "output_type": "execute_result"
    }
   ],
   "source": [
    "model.fit(dataset_preprocesado, epochs=5, steps_per_epoch=len(x_train) // 32)"
   ]
  },
  {
   "cell_type": "code",
   "execution_count": 92,
   "id": "970b2da7-986a-4012-8a4c-c32b761880f7",
   "metadata": {},
   "outputs": [
    {
     "name": "stdout",
     "output_type": "stream",
     "text": [
      "\u001b[1m16/16\u001b[0m \u001b[32m━━━━━━━━━━━━━━━━━━━━\u001b[0m\u001b[37m\u001b[0m \u001b[1m2s\u001b[0m 130ms/step - accuracy: 0.9940 - loss: 0.0343\n",
      "\u001b[1m16/16\u001b[0m \u001b[32m━━━━━━━━━━━━━━━━━━━━\u001b[0m\u001b[37m\u001b[0m \u001b[1m2s\u001b[0m 140ms/step\n"
     ]
    }
   ],
   "source": [
    "model.evaluate(x_test, y_test)\n",
    "prediction = model.predict(x_test)"
   ]
  },
  {
   "cell_type": "markdown",
   "id": "e15f446b-7dcb-4604-a442-3be43d53c7e5",
   "metadata": {},
   "source": [
    "## Pruebas de shape"
   ]
  },
  {
   "cell_type": "code",
   "execution_count": 44,
   "id": "f288eb1f-4e93-4d86-9f27-d2369c42e0d3",
   "metadata": {},
   "outputs": [
    {
     "name": "stdout",
     "output_type": "stream",
     "text": [
      "(5036, 200, 200, 1)\n",
      "(5036,)\n",
      "(276, 100, 100, 1)\n",
      "(69,)\n",
      "float16\n",
      "float16\n",
      "float16\n",
      "float16\n",
      "<_ShuffleDataset element_spec=(TensorSpec(shape=(200, 200, 1), dtype=tf.float16, name=None), TensorSpec(shape=(), dtype=tf.float16, name=None))>\n"
     ]
    }
   ],
   "source": [
    "print(x_train.shape)\n",
    "print(y_train.shape)\n",
    "print(x_test.shape)\n",
    "print(y_test.shape)\n",
    "print(x_train.dtype)\n",
    "print(y_train.dtype)\n",
    "print(x_test.dtype)\n",
    "print(y_test.dtype)\n",
    "print(dataset)"
   ]
  },
  {
   "cell_type": "markdown",
   "id": "631ceb71-a4cc-43d8-918e-87156a32616e",
   "metadata": {},
   "source": [
    "## Probar datos"
   ]
  },
  {
   "cell_type": "code",
   "execution_count": 100,
   "id": "271840e1-c5a7-4fb4-aca5-07e0e6bd9a7e",
   "metadata": {},
   "outputs": [
    {
     "name": "stdout",
     "output_type": "stream",
     "text": [
      "[[1.0000000e+00 4.4749850e-11]\n",
      " [1.0000000e+00 6.0282543e-11]\n",
      " [1.0000000e+00 2.4011185e-11]\n",
      " [2.7156761e-01 7.2843242e-01]\n",
      " [1.0441682e-02 9.8955834e-01]\n",
      " [3.9806516e-10 1.0000000e+00]\n",
      " [1.0441682e-02 9.8955834e-01]\n",
      " [5.2461593e-07 9.9999952e-01]\n",
      " [4.6939607e-04 9.9953067e-01]\n",
      " [6.0917944e-07 9.9999940e-01]\n",
      " [2.5495979e-08 1.0000000e+00]\n",
      " [1.9188386e-07 9.9999976e-01]\n",
      " [8.2519044e-05 9.9991751e-01]\n",
      " [6.3081440e-10 1.0000000e+00]\n",
      " [9.3080344e-06 9.9999070e-01]\n",
      " [2.9297832e-01 7.0702177e-01]\n",
      " [8.8046750e-07 9.9999917e-01]\n",
      " [1.1605373e-05 9.9998844e-01]\n",
      " [7.3824426e-06 9.9999261e-01]\n",
      " [2.6706894e-04 9.9973291e-01]\n",
      " [2.9297802e-01 7.0702201e-01]\n",
      " [2.9297832e-01 7.0702177e-01]\n",
      " [1.0441682e-02 9.8955834e-01]\n",
      " [5.4817833e-06 9.9999452e-01]\n",
      " [4.4571811e-06 9.9999559e-01]\n",
      " [1.0091454e-07 9.9999988e-01]\n",
      " [1.4801859e-02 9.8519820e-01]\n",
      " [6.7254547e-07 9.9999928e-01]\n",
      " [3.6738416e-05 9.9996328e-01]\n",
      " [4.0361101e-06 9.9999595e-01]\n",
      " [2.8725856e-04 9.9971277e-01]\n",
      " [6.3742642e-05 9.9993622e-01]\n",
      " [5.8941718e-04 9.9941063e-01]\n",
      " [1.2078068e-06 9.9999881e-01]\n",
      " [1.8489085e-07 9.9999976e-01]\n",
      " [8.3009824e-03 9.9169898e-01]\n",
      " [2.5522885e-08 1.0000000e+00]\n",
      " [8.5529656e-08 9.9999988e-01]\n",
      " [1.7236158e-07 9.9999988e-01]\n",
      " [6.1654105e-06 9.9999380e-01]\n",
      " [6.8988727e-04 9.9931014e-01]\n",
      " [4.0089339e-03 9.9599105e-01]\n",
      " [2.2455006e-07 9.9999976e-01]\n",
      " [2.1023536e-02 9.7897655e-01]\n",
      " [5.3450161e-01 4.6549842e-01]]\n",
      "[0. 0. 0. 1. 1. 1. 1. 1. 1. 1. 1. 1. 1. 1. 1. 1. 1. 1. 1. 1. 1. 1. 1. 1.\n",
      " 1. 1. 1. 1. 1. 1. 1. 1. 1. 1. 1. 1. 1. 1. 1. 1. 1. 1. 1. 1. 1.]\n"
     ]
    }
   ],
   "source": [
    "print(prediction[235:280])\n",
    "print(y_test[235:280])"
   ]
  },
  {
   "cell_type": "code",
   "execution_count": null,
   "id": "a9d0c0f0-72dd-429d-b10a-997d3bb6352c",
   "metadata": {},
   "outputs": [],
   "source": []
  }
 ],
 "metadata": {
  "kernelspec": {
   "display_name": "Python 3 (ipykernel)",
   "language": "python",
   "name": "python3"
  },
  "language_info": {
   "codemirror_mode": {
    "name": "ipython",
    "version": 3
   },
   "file_extension": ".py",
   "mimetype": "text/x-python",
   "name": "python",
   "nbconvert_exporter": "python",
   "pygments_lexer": "ipython3",
   "version": "3.12.3"
  }
 },
 "nbformat": 4,
 "nbformat_minor": 5
}
